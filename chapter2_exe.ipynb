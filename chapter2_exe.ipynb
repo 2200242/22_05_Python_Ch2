{
  "nbformat": 4,
  "nbformat_minor": 0,
  "metadata": {
    "colab": {
      "provenance": [],
      "authorship_tag": "ABX9TyP9jsEGobxmqrF8DUzi7EMe",
      "include_colab_link": true
    },
    "kernelspec": {
      "name": "python3",
      "display_name": "Python 3"
    },
    "language_info": {
      "name": "python"
    }
  },
  "cells": [
    {
      "cell_type": "markdown",
      "metadata": {
        "id": "view-in-github",
        "colab_type": "text"
      },
      "source": [
        "<a href=\"https://colab.research.google.com/github/2200242/22_05_Python_Ch2/blob/main/chapter2_exe.ipynb\" target=\"_parent\"><img src=\"https://colab.research.google.com/assets/colab-badge.svg\" alt=\"Open In Colab\"/></a>"
      ]
    },
    {
      "cell_type": "markdown",
      "source": [
        "사용자한테 이름과 나이를 입력하게 한다 사용자가 100살이 되는 연도를 화면에 출력 하는 프로그램을 작성하라"
      ],
      "metadata": {
        "id": "ie-Fcx6TPn-b"
      }
    },
    {
      "cell_type": "code",
      "source": [
        "name = input(\"이름을 입력하시오:\")            # 변수 name에 input함수를 사용하여 사용자에\n",
        "age = int(input(\"나이를 입력하시오:\"))        # 변수 age에 int(정수형선언)함수로 사용자\n",
        "year = 2022 - age + 100                       # 변수 year에 현재 연도 - 변수(age) + 100\n",
        "print(name + \"씨는\" + str(year) + \"년에 100살입니다.\")"
      ],
      "metadata": {
        "colab": {
          "base_uri": "https://localhost:8080/"
        },
        "id": "SrL2nua8PxpH",
        "outputId": "32051aa9-cf9c-4a3a-9482-fca31ec9ebeb"
      },
      "execution_count": 1,
      "outputs": [
        {
          "output_type": "stream",
          "name": "stdout",
          "text": [
            "이름을 입력하시오:김건일\n",
            "나이를 입력하시오:23\n",
            "김건일씨는2099년에 100살입니다.\n"
          ]
        }
      ]
    },
    {
      "cell_type": "code",
      "source": [
        "n1 = int(input(\"첫 번째 값을 입력하시오:\"))\n",
        "n2 = int(input(\"두 번째 값을 입력하시오:\"))\n",
        "n3 = int(input(\"세 번째 값을 입력하시오:\"))\n",
        "aver = (n1 + n2 + n3) / 3\n",
        "sum = n1 + n2 + n3\n",
        "print(n1,n2, n3, \"합은\", sum, \"이고\",\"의 평균은\", aver, \"입니다\")"
      ],
      "metadata": {
        "colab": {
          "base_uri": "https://localhost:8080/"
        },
        "id": "wMR8fECDTaHR",
        "outputId": "8b522bb4-6f57-45a3-9bc2-9ff2be18ecf3"
      },
      "execution_count": 9,
      "outputs": [
        {
          "output_type": "stream",
          "name": "stdout",
          "text": [
            "첫 번째 값을 입력하시오:10\n",
            "두 번째 값을 입력하시오:20\n",
            "세 번째 값을 입력하시오:30\n",
            "10 20 30 합은 60 이고 의 평균은 20.0 입니다\n"
          ]
        }
      ]
    },
    {
      "cell_type": "markdown",
      "source": [
        "(3) 사용자로부터 반지름을 입력받아서 면적을 구하시오."
      ],
      "metadata": {
        "id": "SKSzbPI1V6ae"
      }
    },
    {
      "cell_type": "code",
      "source": [
        "radius = int(input(\"반지름을 입력하시오.:\"))\n",
        "area = 3.141592* radius * radius\n",
        "print(\"반지름이\",radius,\"원의 넓이는 = \", area,\"입니다\")"
      ],
      "metadata": {
        "colab": {
          "base_uri": "https://localhost:8080/"
        },
        "id": "s_YSfioEV71_",
        "outputId": "67ccb575-97f7-4962-e587-9c5dd0a712b1"
      },
      "execution_count": 11,
      "outputs": [
        {
          "output_type": "stream",
          "name": "stdout",
          "text": [
            "반지름을 입력하시오.:10\n",
            "반지름이 10 원의 넓이는 =  314.1592 입니다\n"
          ]
        }
      ]
    }
  ]
}